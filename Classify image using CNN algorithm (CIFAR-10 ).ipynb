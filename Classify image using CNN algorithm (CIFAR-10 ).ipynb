{
 "cells": [
  {
   "cell_type": "code",
   "execution_count": 1,
   "id": "c66d9208",
   "metadata": {},
   "outputs": [],
   "source": [
    "import tensorflow as tf \n",
    "from tensorflow.keras import datasets, models,layers"
   ]
  },
  {
   "cell_type": "code",
   "execution_count": 2,
   "id": "f27fc38b",
   "metadata": {},
   "outputs": [
    {
     "data": {
      "text/plain": [
       "[PhysicalDevice(name='/physical_device:CPU:0', device_type='CPU'),\n",
       " PhysicalDevice(name='/physical_device:GPU:0', device_type='GPU')]"
      ]
     },
     "execution_count": 2,
     "metadata": {},
     "output_type": "execute_result"
    }
   ],
   "source": [
    "tf.config.list_physical_devices()"
   ]
  },
  {
   "cell_type": "code",
   "execution_count": 3,
   "id": "cf61608a",
   "metadata": {},
   "outputs": [],
   "source": [
    "(fea_trn, tar_trn), (fea_test , tar_test) = datasets.cifar10.load_data()"
   ]
  },
  {
   "cell_type": "code",
   "execution_count": 4,
   "id": "be103049",
   "metadata": {},
   "outputs": [
    {
     "data": {
      "text/plain": [
       "((50000, 32, 32, 3), (50000, 1))"
      ]
     },
     "execution_count": 4,
     "metadata": {},
     "output_type": "execute_result"
    }
   ],
   "source": [
    "fea_trn.shape , tar_trn.shape"
   ]
  },
  {
   "cell_type": "code",
   "execution_count": 5,
   "id": "38ab68c1",
   "metadata": {},
   "outputs": [
    {
     "data": {
      "text/plain": [
       "((10000, 32, 32, 3), (10000, 1))"
      ]
     },
     "execution_count": 5,
     "metadata": {},
     "output_type": "execute_result"
    }
   ],
   "source": [
    "fea_test.shape, tar_test.shape"
   ]
  },
  {
   "cell_type": "code",
   "execution_count": 6,
   "id": "eb57d329",
   "metadata": {
    "scrolled": false
   },
   "outputs": [],
   "source": [
    "label = ['airplane','automobile','bird','cat', 'deer','dog', 'frog','horse','ship','truck']"
   ]
  },
  {
   "cell_type": "code",
   "execution_count": 7,
   "id": "9004dd75",
   "metadata": {},
   "outputs": [],
   "source": [
    "x_trn = fea_trn / 255.0\n",
    "x_tst = fea_test / 255.0\n",
    "y_trn = tar_trn\n",
    "y_tst = tar_test"
   ]
  },
  {
   "cell_type": "code",
   "execution_count": 8,
   "id": "2b35ca2b",
   "metadata": {},
   "outputs": [],
   "source": [
    "#loss need to be less than 15% \n",
    "def CNN_model():\n",
    "    Convo_NuNet = models.Sequential([\n",
    "        layers.Conv2D(filters=120, kernel_size=(3, 3), activation='relu',  input_shape=(32, 32, 3)),\n",
    "        layers.MaxPooling2D((2, 2)),\n",
    "\n",
    "        layers.Conv2D(filters=80, kernel_size=(2, 2), activation='relu'),\n",
    "        layers.MaxPooling2D((2, 2)),\n",
    "        \n",
    "        layers.Conv2D(filters=60, kernel_size=(2, 2), activation='relu'),\n",
    "        layers.MaxPooling2D((2, 2)),\n",
    "        \n",
    "        layers.Flatten(),\n",
    "        layers.Dense(250, activation='relu'),\n",
    "        layers.Dense(10, activation='softmax')\n",
    "    ])\n",
    "\n",
    "    Convo_NuNet.compile(optimizer='adam',\n",
    "                  loss='sparse_categorical_crossentropy',\n",
    "                  metrics=['accuracy'])\n",
    "    return Convo_NuNet"
   ]
  },
  {
   "cell_type": "code",
   "execution_count": 9,
   "id": "a862f3f5",
   "metadata": {},
   "outputs": [
    {
     "name": "stdout",
     "output_type": "stream",
     "text": [
      "Epoch 1/25\n",
      "1563/1563 [==============================] - 132s 84ms/step - loss: 1.4427 - accuracy: 0.4751\n",
      "Epoch 2/25\n",
      "1563/1563 [==============================] - 129s 82ms/step - loss: 1.0721 - accuracy: 0.6213\n",
      "Epoch 3/25\n",
      "1563/1563 [==============================] - 126s 81ms/step - loss: 0.9068 - accuracy: 0.6800\n",
      "Epoch 4/25\n",
      "1563/1563 [==============================] - 125s 80ms/step - loss: 0.7991 - accuracy: 0.7184\n",
      "Epoch 5/25\n",
      "1563/1563 [==============================] - 125s 80ms/step - loss: 0.7181 - accuracy: 0.7462\n",
      "Epoch 6/25\n",
      "1563/1563 [==============================] - 130s 83ms/step - loss: 0.6482 - accuracy: 0.7724\n",
      "Epoch 7/25\n",
      "1563/1563 [==============================] - 127s 81ms/step - loss: 0.5832 - accuracy: 0.7944\n",
      "Epoch 8/25\n",
      "1563/1563 [==============================] - 124s 79ms/step - loss: 0.5332 - accuracy: 0.8128\n",
      "Epoch 9/25\n",
      "1563/1563 [==============================] - 125s 80ms/step - loss: 0.4811 - accuracy: 0.8309\n",
      "Epoch 10/25\n",
      "1563/1563 [==============================] - 124s 79ms/step - loss: 0.4365 - accuracy: 0.8439\n",
      "Epoch 11/25\n",
      "1563/1563 [==============================] - 123s 78ms/step - loss: 0.3952 - accuracy: 0.8596\n",
      "Epoch 12/25\n",
      "1563/1563 [==============================] - 122s 78ms/step - loss: 0.3584 - accuracy: 0.8714\n",
      "Epoch 13/25\n",
      "1563/1563 [==============================] - 123s 79ms/step - loss: 0.3177 - accuracy: 0.8872\n",
      "Epoch 14/25\n",
      "1563/1563 [==============================] - 123s 79ms/step - loss: 0.2889 - accuracy: 0.8974\n",
      "Epoch 15/25\n",
      "1563/1563 [==============================] - 123s 79ms/step - loss: 0.2622 - accuracy: 0.9058\n",
      "Epoch 16/25\n",
      "1563/1563 [==============================] - 122s 78ms/step - loss: 0.2311 - accuracy: 0.9169\n",
      "Epoch 17/25\n",
      "1563/1563 [==============================] - 122s 78ms/step - loss: 0.2203 - accuracy: 0.9204\n",
      "Epoch 18/25\n",
      "1563/1563 [==============================] - 121s 78ms/step - loss: 0.1972 - accuracy: 0.9299\n",
      "Epoch 19/25\n",
      "1563/1563 [==============================] - 121s 78ms/step - loss: 0.1817 - accuracy: 0.9338\n",
      "Epoch 20/25\n",
      "1563/1563 [==============================] - 122s 78ms/step - loss: 0.1731 - accuracy: 0.9372\n",
      "Epoch 21/25\n",
      "1563/1563 [==============================] - 122s 78ms/step - loss: 0.1605 - accuracy: 0.9419\n",
      "Epoch 22/25\n",
      "1563/1563 [==============================] - 123s 79ms/step - loss: 0.1576 - accuracy: 0.9433\n",
      "Epoch 23/25\n",
      "1563/1563 [==============================] - 121s 78ms/step - loss: 0.1483 - accuracy: 0.9468\n",
      "Epoch 24/25\n",
      "1563/1563 [==============================] - 121s 78ms/step - loss: 0.1439 - accuracy: 0.9490\n",
      "Epoch 25/25\n",
      "1563/1563 [==============================] - 121s 78ms/step - loss: 0.1417 - accuracy: 0.9499\n",
      "313/313 [==============================] - 7s 22ms/step - loss: 1.9744 - accuracy: 0.6993\n",
      "Wall time: 51min 45s\n"
     ]
    }
   ],
   "source": [
    "%%time \n",
    "with tf.device('/CPU:0'): \n",
    "    cpu_model_cnn = CNN_model()\n",
    "    cpu_model_cnn.fit(x_trn,y_trn, epochs=25)\n",
    "    cpu_model_cnn.evaluate(x_tst,y_tst)"
   ]
  },
  {
   "cell_type": "code",
   "execution_count": 10,
   "id": "1929ef47",
   "metadata": {
    "scrolled": false
   },
   "outputs": [
    {
     "name": "stdout",
     "output_type": "stream",
     "text": [
      "Epoch 1/25\n",
      "1563/1563 [==============================] - 55s 31ms/step - loss: 1.4712 - accuracy: 0.4683\n",
      "Epoch 2/25\n",
      "1563/1563 [==============================] - 48s 30ms/step - loss: 1.0823 - accuracy: 0.6185\n",
      "Epoch 3/25\n",
      "1563/1563 [==============================] - 47s 30ms/step - loss: 0.9212 - accuracy: 0.6781\n",
      "Epoch 4/25\n",
      "1563/1563 [==============================] - 47s 30ms/step - loss: 0.8239 - accuracy: 0.7112\n",
      "Epoch 5/25\n",
      "1563/1563 [==============================] - 47s 30ms/step - loss: 0.7385 - accuracy: 0.7401\n",
      "Epoch 6/25\n",
      "1563/1563 [==============================] - 47s 30ms/step - loss: 0.6745 - accuracy: 0.7633\n",
      "Epoch 7/25\n",
      "1563/1563 [==============================] - 47s 30ms/step - loss: 0.6145 - accuracy: 0.7833\n",
      "Epoch 8/25\n",
      "1563/1563 [==============================] - 46s 30ms/step - loss: 0.5618 - accuracy: 0.8026\n",
      "Epoch 9/25\n",
      "1563/1563 [==============================] - 47s 30ms/step - loss: 0.5179 - accuracy: 0.8183\n",
      "Epoch 10/25\n",
      "1563/1563 [==============================] - 46s 30ms/step - loss: 0.4675 - accuracy: 0.8349\n",
      "Epoch 11/25\n",
      "1563/1563 [==============================] - 47s 30ms/step - loss: 0.4236 - accuracy: 0.8513\n",
      "Epoch 12/25\n",
      "1563/1563 [==============================] - 46s 30ms/step - loss: 0.3890 - accuracy: 0.86281s - loss: 0.3868 - ac\n",
      "Epoch 13/25\n",
      "1563/1563 [==============================] - 47s 30ms/step - loss: 0.3549 - accuracy: 0.8744\n",
      "Epoch 14/25\n",
      "1563/1563 [==============================] - 46s 30ms/step - loss: 0.3267 - accuracy: 0.8834\n",
      "Epoch 15/25\n",
      "1563/1563 [==============================] - 47s 30ms/step - loss: 0.2992 - accuracy: 0.8925\n",
      "Epoch 16/25\n",
      "1563/1563 [==============================] - 47s 30ms/step - loss: 0.2787 - accuracy: 0.89910s -\n",
      "Epoch 17/25\n",
      "1563/1563 [==============================] - 47s 30ms/step - loss: 0.2536 - accuracy: 0.9097\n",
      "Epoch 18/25\n",
      "1563/1563 [==============================] - 47s 30ms/step - loss: 0.2278 - accuracy: 0.9177\n",
      "Epoch 19/25\n",
      "1563/1563 [==============================] - 47s 30ms/step - loss: 0.2125 - accuracy: 0.9239\n",
      "Epoch 20/25\n",
      "1563/1563 [==============================] - 47s 30ms/step - loss: 0.1997 - accuracy: 0.9280\n",
      "Epoch 21/25\n",
      "1563/1563 [==============================] - 47s 30ms/step - loss: 0.1853 - accuracy: 0.9330\n",
      "Epoch 22/25\n",
      "1563/1563 [==============================] - 46s 30ms/step - loss: 0.1707 - accuracy: 0.9393\n",
      "Epoch 23/25\n",
      "1563/1563 [==============================] - 47s 30ms/step - loss: 0.1638 - accuracy: 0.9405\n",
      "Epoch 24/25\n",
      "1563/1563 [==============================] - 46s 30ms/step - loss: 0.1533 - accuracy: 0.9438\n",
      "Epoch 25/25\n",
      "1563/1563 [==============================] - 47s 30ms/step - loss: 0.1500 - accuracy: 0.9455\n",
      "313/313 [==============================] - 3s 10ms/step - loss: 1.7012 - accuracy: 0.7185\n",
      "Wall time: 19min 50s\n"
     ]
    }
   ],
   "source": [
    "%%time \n",
    "with tf.device('/GPU:0'):\n",
    "    gpu_model_cnn = CNN_model()\n",
    "    gpu_model_cnn.fit(x_trn,y_trn, epochs=25);\n",
    "    gpu_model_cnn.evaluate(x_tst,y_tst)"
   ]
  },
  {
   "cell_type": "code",
   "execution_count": 11,
   "id": "988a333f",
   "metadata": {
    "scrolled": false
   },
   "outputs": [
    {
     "name": "stdout",
     "output_type": "stream",
     "text": [
      "Model: \"sequential_1\"\n",
      "_________________________________________________________________\n",
      " Layer (type)                Output Shape              Param #   \n",
      "=================================================================\n",
      " conv2d_3 (Conv2D)           (None, 30, 30, 120)       3360      \n",
      "                                                                 \n",
      " max_pooling2d_3 (MaxPooling  (None, 15, 15, 120)      0         \n",
      " 2D)                                                             \n",
      "                                                                 \n",
      " conv2d_4 (Conv2D)           (None, 14, 14, 80)        38480     \n",
      "                                                                 \n",
      " max_pooling2d_4 (MaxPooling  (None, 7, 7, 80)         0         \n",
      " 2D)                                                             \n",
      "                                                                 \n",
      " conv2d_5 (Conv2D)           (None, 6, 6, 60)          19260     \n",
      "                                                                 \n",
      " max_pooling2d_5 (MaxPooling  (None, 3, 3, 60)         0         \n",
      " 2D)                                                             \n",
      "                                                                 \n",
      " flatten_1 (Flatten)         (None, 540)               0         \n",
      "                                                                 \n",
      " dense_2 (Dense)             (None, 250)               135250    \n",
      "                                                                 \n",
      " dense_3 (Dense)             (None, 10)                2510      \n",
      "                                                                 \n",
      "=================================================================\n",
      "Total params: 198,860\n",
      "Trainable params: 198,860\n",
      "Non-trainable params: 0\n",
      "_________________________________________________________________\n"
     ]
    }
   ],
   "source": [
    "gpu_model_cnn.summary()"
   ]
  },
  {
   "cell_type": "code",
   "execution_count": null,
   "id": "726a97d6",
   "metadata": {},
   "outputs": [],
   "source": []
  }
 ],
 "metadata": {
  "kernelspec": {
   "display_name": "Python 3 (ipykernel)",
   "language": "python",
   "name": "python3"
  },
  "language_info": {
   "codemirror_mode": {
    "name": "ipython",
    "version": 3
   },
   "file_extension": ".py",
   "mimetype": "text/x-python",
   "name": "python",
   "nbconvert_exporter": "python",
   "pygments_lexer": "ipython3",
   "version": "3.9.7"
  }
 },
 "nbformat": 4,
 "nbformat_minor": 5
}
